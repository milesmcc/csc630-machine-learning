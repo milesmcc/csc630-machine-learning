{
 "cells": [
  {
   "cell_type": "code",
   "execution_count": 31,
   "metadata": {},
   "outputs": [],
   "source": [
    "class Variable():\n",
    "    num_variables = 0\n",
    "    \n",
    "    def __init__(self, inputs = None, eval_ = None):\n",
    "        if inputs != None:\n",
    "            self.inputs = inputs\n",
    "        else:\n",
    "            self.inputs = []\n",
    "        if eval_ != None:\n",
    "            self.eval_ = eval_\n",
    "        if len(self.inputs) == 0:\n",
    "            Variable.num_variables += 1\n",
    "            self.independent_index = Variable.num_variables\n",
    "            \n",
    "    def eval_(self, *values):\n",
    "        return values[self.independent_index - 1]\n",
    "    \n",
    "    def __add__(self, other):\n",
    "        \"\"\" Defines the functionality of the '+' operator. \"\"\"\n",
    "        if isinstance(other, (int, float)):\n",
    "            return Variable(eval_ = lambda *values: other + self.eval_(*values))\n",
    "        if isinstance(other, Variable):\n",
    "            return Variable(inputs=[self, other], eval_=lambda *values: self.eval_(*values) + other.eval_(*values))\n",
    "        else:\n",
    "            return NotImplemented()\n",
    "        \n",
    "    def __radd__(self, other):\n",
    "        return self.__add__(other)"
   ]
  },
  {
   "cell_type": "code",
   "execution_count": 32,
   "metadata": {},
   "outputs": [],
   "source": [
    "x = Variable()"
   ]
  },
  {
   "cell_type": "code",
   "execution_count": 33,
   "metadata": {},
   "outputs": [
    {
     "data": {
      "text/plain": [
       "1"
      ]
     },
     "execution_count": 33,
     "metadata": {},
     "output_type": "execute_result"
    }
   ],
   "source": [
    "x.eval_(1)"
   ]
  },
  {
   "cell_type": "code",
   "execution_count": 34,
   "metadata": {},
   "outputs": [],
   "source": [
    "y = Variable()"
   ]
  },
  {
   "cell_type": "code",
   "execution_count": 35,
   "metadata": {},
   "outputs": [],
   "source": [
    "z = y + (x + 2)"
   ]
  },
  {
   "cell_type": "code",
   "execution_count": 36,
   "metadata": {},
   "outputs": [
    {
     "data": {
      "text/plain": [
       "7"
      ]
     },
     "execution_count": 36,
     "metadata": {},
     "output_type": "execute_result"
    }
   ],
   "source": [
    "z.eval_(2,3)"
   ]
  },
  {
   "cell_type": "code",
   "execution_count": 37,
   "metadata": {},
   "outputs": [],
   "source": [
    "w = 3 + x"
   ]
  },
  {
   "cell_type": "code",
   "execution_count": 38,
   "metadata": {},
   "outputs": [
    {
     "data": {
      "text/plain": [
       "8"
      ]
     },
     "execution_count": 38,
     "metadata": {},
     "output_type": "execute_result"
    }
   ],
   "source": [
    "w.eval_(5)"
   ]
  },
  {
   "cell_type": "code",
   "execution_count": null,
   "metadata": {},
   "outputs": [],
   "source": []
  }
 ],
 "metadata": {
  "kernelspec": {
   "display_name": "Python 3",
   "language": "python",
   "name": "python3"
  },
  "language_info": {
   "codemirror_mode": {
    "name": "ipython",
    "version": 3
   },
   "file_extension": ".py",
   "mimetype": "text/x-python",
   "name": "python",
   "nbconvert_exporter": "python",
   "pygments_lexer": "ipython3",
   "version": "3.6.5"
  }
 },
 "nbformat": 4,
 "nbformat_minor": 2
}
